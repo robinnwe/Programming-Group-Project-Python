{
 "cells": [
  {
   "cell_type": "code",
   "execution_count": 4,
   "id": "cd6c28c9-c9af-43e2-b811-4c289f12d44e",
   "metadata": {},
   "outputs": [],
   "source": [
    "import numpy as np\n"
   ]
  },
  {
   "cell_type": "code",
   "execution_count": 5,
   "id": "8d8e1a0e",
   "metadata": {},
   "outputs": [],
   "source": [
    "import pandas as pd"
   ]
  },
  {
   "cell_type": "code",
   "execution_count": 6,
   "id": "62748eb6",
   "metadata": {},
   "outputs": [
    {
     "name": "stdout",
     "output_type": "stream",
     "text": [
      "    Name  Age\n",
      "0   John   28\n",
      "1   Anna   22\n",
      "2  Peter   34\n",
      "3  Linda   42\n"
     ]
    }
   ],
   "source": [
    "data = {\n",
    "    'Name': ['John', 'Anna', 'Peter', 'Linda'],\n",
    "    'Age': [28, 22, 34, 42]\n",
    "}\n",
    "\n",
    "# Create DataFrame\n",
    "df = pd.DataFrame(data)\n",
    "\n",
    "# Display the DataFrame\n",
    "print(df)"
   ]
  },
  {
   "cell_type": "code",
   "execution_count": 10,
   "id": "ab4b0526",
   "metadata": {},
   "outputs": [
    {
     "name": "stdout",
     "output_type": "stream",
     "text": [
      "                                 Open        High         Low       Close  \\\n",
      "Date                                                                        \n",
      "2024-04-19 00:00:00-04:00  166.210007  166.399994  164.080002  165.000000   \n",
      "2024-04-22 00:00:00-04:00  165.520004  167.259995  164.770004  165.839996   \n",
      "2024-04-23 00:00:00-04:00  165.350006  167.050003  164.919998  166.899994   \n",
      "2024-04-24 00:00:00-04:00  166.539993  169.300003  166.210007  169.020004   \n",
      "2024-04-25 00:00:00-04:00  169.600006  170.610001  168.151093  169.179993   \n",
      "\n",
      "                             Volume  Dividends  Stock Splits  \n",
      "Date                                                          \n",
      "2024-04-19 00:00:00-04:00  67772100        0.0           0.0  \n",
      "2024-04-22 00:00:00-04:00  48116400        0.0           0.0  \n",
      "2024-04-23 00:00:00-04:00  49537800        0.0           0.0  \n",
      "2024-04-24 00:00:00-04:00  48121300        0.0           0.0  \n",
      "2024-04-25 00:00:00-04:00  23172066        0.0           0.0  \n"
     ]
    }
   ],
   "source": [
    "import time\n",
    "import datetime\n",
    "import yfinance as yf\n",
    "\n",
    "\n",
    "\n",
    "\n",
    "apple = yf.Ticker(\"AAPL\")\n",
    "\n",
    "hist = apple.history(period=\"5d\")\n",
    "\n",
    "print(hist)"
   ]
  }
 ],
 "metadata": {
  "kernelspec": {
   "display_name": "Python 3 (ipykernel)",
   "language": "python",
   "name": "python3"
  },
  "language_info": {
   "codemirror_mode": {
    "name": "ipython",
    "version": 3
   },
   "file_extension": ".py",
   "mimetype": "text/x-python",
   "name": "python",
   "nbconvert_exporter": "python",
   "pygments_lexer": "ipython3",
   "version": "3.11.7"
  }
 },
 "nbformat": 4,
 "nbformat_minor": 5
}
